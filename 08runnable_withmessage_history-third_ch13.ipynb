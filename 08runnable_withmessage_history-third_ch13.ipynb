{
 "cells": [
  {
   "cell_type": "code",
   "execution_count": 18,
   "id": "62394f61-a802-4671-a362-0a48a0f86f28",
   "metadata": {},
   "outputs": [],
   "source": [
    "# 20250816"
   ]
  },
  {
   "cell_type": "code",
   "execution_count": 19,
   "id": "82327030-1d12-40f4-aa3d-02b8da5d5e18",
   "metadata": {},
   "outputs": [],
   "source": [
    "# https://csp.gitbook.io/langchain-for-beginners/ch13-langchain-expression-language-lcel/08.-runnablewithmessagehistory"
   ]
  },
  {
   "cell_type": "code",
   "execution_count": 20,
   "id": "7bf6cc50-27c1-4d43-bcd7-81cf44504c48",
   "metadata": {},
   "outputs": [],
   "source": [
    "# 08. RunnableWithMessageHistory"
   ]
  },
  {
   "cell_type": "code",
   "execution_count": 21,
   "id": "19282fc7-2b9c-4426-8629-5ef489bb41c2",
   "metadata": {},
   "outputs": [],
   "source": [
    "from langchain_core.prompts import ChatPromptTemplate, MessagesPlaceholder\n",
    "from langchain_groq import ChatGroq\n",
    "import os\n",
    "from dotenv import load_dotenv"
   ]
  },
  {
   "cell_type": "code",
   "execution_count": 22,
   "id": "d503e79e-24f6-41d2-b4e5-49b9755c89d2",
   "metadata": {},
   "outputs": [
    {
     "data": {
      "text/plain": [
       "True"
      ]
     },
     "execution_count": 22,
     "metadata": {},
     "output_type": "execute_result"
    }
   ],
   "source": [
    "# Load environment variables from .env file\n",
    "load_dotenv()"
   ]
  },
  {
   "cell_type": "code",
   "execution_count": 23,
   "id": "05a7cfcf-3501-40a9-b6e4-8087266f6d86",
   "metadata": {},
   "outputs": [],
   "source": [
    "model = ChatGroq(model=\"llama3-70b-8192\")\n",
    "prompt = ChatPromptTemplate.from_messages(\n",
    "    [\n",
    "        (\n",
    "            \"system\",\n",
    "            \"You are an assistant who is proficient in {ability}. Please respond in 20 characters or less.\",\n",
    "        ),\n",
    "        # Use conversation history as a variable, history becomes the key of MessageHistory\n",
    "        MessagesPlaceholder(variable_name=\"history\"),\n",
    "        (\"human\", \"{input}\"),  # Use user input as a variable\n",
    "    ]\n",
    ")\n",
    "runnable = prompt | model  # Create a runnable object by connecting a prompt and a model"
   ]
  },
  {
   "cell_type": "code",
   "execution_count": 24,
   "id": "a54b7ade-2a60-4865-8554-d53fe861ff8b",
   "metadata": {},
   "outputs": [],
   "source": [
    "from langchain_community.chat_message_histories import ChatMessageHistory\n",
    "from langchain_core.chat_history import BaseChatMessageHistory\n",
    "from langchain_core.runnables.history import RunnableWithMessageHistory\n",
    "from langchain_core.runnables import ConfigurableFieldSpec\n",
    "from langchain_core.runnables.history import RunnableWithMessageHistory"
   ]
  },
  {
   "cell_type": "code",
   "execution_count": 25,
   "id": "bf257bfd-1061-4c92-bd04-1bb9f52d6d26",
   "metadata": {},
   "outputs": [],
   "source": [
    "store = {}  # A dictionary to store session records."
   ]
  },
  {
   "cell_type": "code",
   "execution_count": 26,
   "id": "23c77bd0-5ff5-49fe-86c0-dc9b3d2c38bd",
   "metadata": {},
   "outputs": [],
   "source": [
    "# Function to retrieve session records based on session ID\n",
    "def get_session_history(session_ids: str) -> BaseChatMessageHistory:\n",
    "    print(session_ids)\n",
    "    if session_ids not in store:  # If the session ID is not in the store\n",
    "        # Create a new ChatMessageHistory object and save it to the store.\n",
    "        store[session_ids] = ChatMessageHistory()\n",
    "    return store[session_ids]  # Returns the session record for the given session ID.\n"
   ]
  },
  {
   "cell_type": "code",
   "execution_count": 27,
   "id": "3018c43a-b156-4598-b635-60e584895d31",
   "metadata": {},
   "outputs": [],
   "source": [
    "with_message_history = (\n",
    "    RunnableWithMessageHistory(  # RunnableWithMessageHistory Object creation\n",
    "        runnable,  # Runnable object to execute\n",
    "        get_session_history,  # Function to retrieve session records\n",
    "        input_messages_key=\"input\",  #Specifies the key to be processed with the latest input message\n",
    "        history_messages_key=\"history\",#Specifies the key to add the previous message.  \n",
    "    )\n",
    ")"
   ]
  },
  {
   "cell_type": "code",
   "execution_count": 28,
   "id": "31e0998e-98cb-4483-9f1f-50bbfb9b089c",
   "metadata": {},
   "outputs": [],
   "source": [
    "try:\n",
    "    if history_factory_config:\n",
    "        _config_specs = history_factory_config\n",
    "    else:\n",
    "        # If not provided, then we'll use the default session_id field\n",
    "        _config_specs = [\n",
    "            ConfigurableFieldSpec(\n",
    "                id=\"session_id\",\n",
    "                annotation=str,\n",
    "                name=\"Session ID\",\n",
    "                description=\"Unique identifier for a session.\",\n",
    "                default=\"\",\n",
    "                is_shared=True,\n",
    "            ),\n",
    "        ]\n",
    "except NameError:\n",
    "    # Fallback if history_factory_config isn't defined at all\n",
    "    _config_specs = [\n",
    "        ConfigurableFieldSpec(\n",
    "            id=\"session_id\",\n",
    "            annotation=str,\n",
    "            name=\"Session ID\",\n",
    "            description=\"Unique identifier for a session.\",\n",
    "            default=\"\",\n",
    "            is_shared=True,\n",
    "        ),\n",
    "    ]\n"
   ]
  },
  {
   "cell_type": "code",
   "execution_count": 29,
   "id": "e483d5cd-664f-4307-995c-65feecf01bfb",
   "metadata": {},
   "outputs": [
    {
     "name": "stdout",
     "output_type": "stream",
     "text": [
      "abc123\n"
     ]
    },
    {
     "data": {
      "text/plain": [
       "AIMessage(content='adjacent side / hypotenuse', additional_kwargs={}, response_metadata={'token_usage': {'completion_tokens': 8, 'prompt_tokens': 39, 'total_tokens': 47, 'completion_time': 0.027391106, 'prompt_time': 0.012258881, 'queue_time': 0.156009667, 'total_time': 0.039649987}, 'model_name': 'llama3-70b-8192', 'system_fingerprint': 'fp_bf16903a67', 'finish_reason': 'stop', 'logprobs': None}, id='run--9664a7a4-560f-475c-981e-4b37c26d01a3-0', usage_metadata={'input_tokens': 39, 'output_tokens': 8, 'total_tokens': 47})"
      ]
     },
     "execution_count": 29,
     "metadata": {},
     "output_type": "execute_result"
    }
   ],
   "source": [
    "with_message_history.invoke(\n",
    "    # Pass the math related question \"What is the meaning of cosine?\" as input.\n",
    "    {\"ability\": \"math\", \"input\": \"What does cosine mean?\"},\n",
    "    # Pass the session ID \"abc123\" as configuration information.\n",
    "    config={\"configurable\": {\"session_id\": \"abc123\"}},\n",
    ")"
   ]
  },
  {
   "cell_type": "code",
   "execution_count": 30,
   "id": "f9101ec9-f31c-4f40-9b44-4d04e64e3a0d",
   "metadata": {},
   "outputs": [],
   "source": [
    "# Specifies the URL of the Redis server.\n",
    "# REDIS_URL = \"redis://localhost:6379/0\""
   ]
  },
  {
   "cell_type": "code",
   "execution_count": 31,
   "id": "2afc7623-2cb1-432e-9820-f83aeb9d466f",
   "metadata": {},
   "outputs": [],
   "source": [
    "from langchain_community.chat_message_histories import RedisChatMessageHistory\n",
    "\n",
    "\n",
    "def get_message_history(session_id: str) -> RedisChatMessageHistory:\n",
    "    # Returns a RedisChatMessageHistory object based on the session ID.\n",
    "    return RedisChatMessageHistory(session_id, url=os.getenv(\"REDIS_URL\"))\n",
    "\n",
    "\n",
    "with_message_history = RunnableWithMessageHistory(\n",
    "    runnable,  # executable object\n",
    "    get_message_history,  # Function to get message history\n",
    "    input_messages_key=\"input\",  # Key in input message\n",
    "    history_messages_key=\"history\",\n",
    ")"
   ]
  },
  {
   "cell_type": "code",
   "execution_count": 32,
   "id": "78eb66fc-c0c3-45bd-b9e5-638494a477a7",
   "metadata": {},
   "outputs": [
    {
     "data": {
      "text/plain": [
       "AIMessage(content='cos(θ) = adjacent / hypotenuse', additional_kwargs={}, response_metadata={'token_usage': {'completion_tokens': 11, 'prompt_tokens': 61, 'total_tokens': 72, 'completion_time': 0.034996075, 'prompt_time': 0.014635405, 'queue_time': 0.143437679, 'total_time': 0.04963148}, 'model_name': 'llama3-70b-8192', 'system_fingerprint': 'fp_bf16903a67', 'finish_reason': 'stop', 'logprobs': None}, id='run--4de6c31f-3c56-4b88-8bfb-2545d58b846c-0', usage_metadata={'input_tokens': 61, 'output_tokens': 11, 'total_tokens': 72})"
      ]
     },
     "execution_count": 32,
     "metadata": {},
     "output_type": "execute_result"
    }
   ],
   "source": [
    "with_message_history.invoke(\n",
    "    # Pass the math related question \"What is the meaning of cosine?\" as input.\n",
    "    {\"ability\": \"math\", \"input\": \"What does cosine mean?\"},\n",
    "    # Set the session ID to \"redis123\" as a configuration option.\n",
    "    config={\"configurable\": {\"session_id\": \"redis123\"}},\n",
    ")\n"
   ]
  },
  {
   "cell_type": "code",
   "execution_count": 33,
   "id": "93f10545-29a3-4ef7-82d7-8873b3401479",
   "metadata": {},
   "outputs": [
    {
     "data": {
      "text/plain": [
       "AIMessage(content='cos(θ) = /.', additional_kwargs={}, response_metadata={'token_usage': {'completion_tokens': 7, 'prompt_tokens': 89, 'total_tokens': 96, 'completion_time': 0.009799746, 'prompt_time': 0.016610489, 'queue_time': 0.149110316, 'total_time': 0.026410235}, 'model_name': 'llama3-70b-8192', 'system_fingerprint': 'fp_bf16903a67', 'finish_reason': 'stop', 'logprobs': None}, id='run--d4ec3c47-66de-48d9-9359-30ec3463e6d0-0', usage_metadata={'input_tokens': 89, 'output_tokens': 7, 'total_tokens': 96})"
      ]
     },
     "execution_count": 33,
     "metadata": {},
     "output_type": "execute_result"
    }
   ],
   "source": [
    "with_message_history.invoke(\n",
    "    # I would like to request a Korean translation of my previous answer.\n",
    "    {\"ability\": \"math\", \"input\": \"Please translate the previous answer into Korean.\"},\n",
    "    # Set the session ID to \"foobar\" as the configuration value.\n",
    "    config={\"configurable\": {\"session_id\": \"redis123\"}},\n",
    ")"
   ]
  },
  {
   "cell_type": "code",
   "execution_count": 34,
   "id": "be7aa81d-f7e8-4106-bc1e-8dbb69bb3f10",
   "metadata": {},
   "outputs": [
    {
     "data": {
      "text/plain": [
       "AIMessage(content=', .', additional_kwargs={}, response_metadata={'token_usage': {'completion_tokens': 3, 'prompt_tokens': 42, 'total_tokens': 45, 'completion_time': 0.016448461, 'prompt_time': 0.01231958, 'queue_time': 0.153776163, 'total_time': 0.028768041}, 'model_name': 'llama3-70b-8192', 'system_fingerprint': 'fp_bf16903a67', 'finish_reason': 'stop', 'logprobs': None}, id='run--60f59d02-92e0-41bf-95e5-f750d5b454a7-0', usage_metadata={'input_tokens': 42, 'output_tokens': 3, 'total_tokens': 45})"
      ]
     },
     "execution_count": 34,
     "metadata": {},
     "output_type": "execute_result"
    }
   ],
   "source": [
    "with_message_history.invoke(\n",
    "    # I would like to request a Korean translation of my previous answer.\n",
    "    {\"ability\": \"math\", \"input\": \"Please translate the previous answer into Korean.\"},\n",
    "    # Session ID as a setting value \"redis456\".\n",
    "    config={\"configurable\": {\"session_id\": \"redis456\"}},\n",
    ")"
   ]
  },
  {
   "cell_type": "code",
   "execution_count": null,
   "id": "c813bb51-8431-4634-96b9-da261aea73fc",
   "metadata": {},
   "outputs": [],
   "source": []
  }
 ],
 "metadata": {
  "kernelspec": {
   "display_name": "Python 3 (ipykernel)",
   "language": "python",
   "name": "python3"
  },
  "language_info": {
   "codemirror_mode": {
    "name": "ipython",
    "version": 3
   },
   "file_extension": ".py",
   "mimetype": "text/x-python",
   "name": "python",
   "nbconvert_exporter": "python",
   "pygments_lexer": "ipython3",
   "version": "3.11.11"
  }
 },
 "nbformat": 4,
 "nbformat_minor": 5
}

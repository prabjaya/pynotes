{
 "cells": [
  {
   "cell_type": "code",
   "execution_count": null,
   "id": "d62dda4f-56f0-4bd9-8005-2c93c01948d6",
   "metadata": {},
   "outputs": [],
   "source": [
    "# 20250816"
   ]
  },
  {
   "cell_type": "code",
   "execution_count": null,
   "id": "d4849ad5-fcd4-4390-933e-b3555b9725de",
   "metadata": {},
   "outputs": [],
   "source": [
    "# https://csp.gitbook.io/langchain-for-beginners/ch13-langchain-expression-language-lcel/10.-runtime-arguments-binding"
   ]
  },
  {
   "cell_type": "code",
   "execution_count": null,
   "id": "e40b209d-3f83-437d-9a5c-ba2dd07cf7cd",
   "metadata": {},
   "outputs": [],
   "source": [
    "# 10. Runtime Arguments Binding"
   ]
  },
  {
   "cell_type": "code",
   "execution_count": null,
   "id": "32f13a3f-ecfa-4726-ac01-8ec5db1a1a0d",
   "metadata": {},
   "outputs": [],
   "source": []
  },
  {
   "cell_type": "code",
   "execution_count": null,
   "id": "24133565-da04-420f-8fd2-7b4af98ca651",
   "metadata": {},
   "outputs": [],
   "source": []
  },
  {
   "cell_type": "code",
   "execution_count": null,
   "id": "a53c9a01-e2f2-49e2-9ba7-8c5bda72a1e1",
   "metadata": {},
   "outputs": [],
   "source": []
  }
 ],
 "metadata": {
  "kernelspec": {
   "display_name": "Python 3 (ipykernel)",
   "language": "python",
   "name": "python3"
  },
  "language_info": {
   "codemirror_mode": {
    "name": "ipython",
    "version": 3
   },
   "file_extension": ".py",
   "mimetype": "text/x-python",
   "name": "python",
   "nbconvert_exporter": "python",
   "pygments_lexer": "ipython3",
   "version": "3.11.11"
  }
 },
 "nbformat": 4,
 "nbformat_minor": 5
}

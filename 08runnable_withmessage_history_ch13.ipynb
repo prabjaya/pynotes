{
 "cells": [
  {
   "cell_type": "code",
   "execution_count": 67,
   "id": "62394f61-a802-4671-a362-0a48a0f86f28",
   "metadata": {},
   "outputs": [],
   "source": [
    "# 20250816"
   ]
  },
  {
   "cell_type": "code",
   "execution_count": 68,
   "id": "82327030-1d12-40f4-aa3d-02b8da5d5e18",
   "metadata": {},
   "outputs": [],
   "source": [
    "# https://csp.gitbook.io/langchain-for-beginners/ch13-langchain-expression-language-lcel/08.-runnablewithmessagehistory"
   ]
  },
  {
   "cell_type": "code",
   "execution_count": 69,
   "id": "7bf6cc50-27c1-4d43-bcd7-81cf44504c48",
   "metadata": {},
   "outputs": [],
   "source": [
    "# Runnable with various Keys"
   ]
  },
  {
   "cell_type": "code",
   "execution_count": 70,
   "id": "19282fc7-2b9c-4426-8629-5ef489bb41c2",
   "metadata": {},
   "outputs": [],
   "source": [
    "from langchain_core.prompts import ChatPromptTemplate, MessagesPlaceholder\n",
    "from langchain_groq import ChatGroq\n",
    "import os\n",
    "from dotenv import load_dotenv"
   ]
  },
  {
   "cell_type": "code",
   "execution_count": 71,
   "id": "d503e79e-24f6-41d2-b4e5-49b9755c89d2",
   "metadata": {},
   "outputs": [
    {
     "data": {
      "text/plain": [
       "True"
      ]
     },
     "execution_count": 71,
     "metadata": {},
     "output_type": "execute_result"
    }
   ],
   "source": [
    "# Load environment variables from .env file\n",
    "load_dotenv()"
   ]
  },
  {
   "cell_type": "code",
   "execution_count": 72,
   "id": "05a7cfcf-3501-40a9-b6e4-8087266f6d86",
   "metadata": {},
   "outputs": [],
   "source": [
    "from langchain_core.messages import HumanMessage\n",
    "from langchain_core.runnables import RunnableParallel"
   ]
  },
  {
   "cell_type": "code",
   "execution_count": 73,
   "id": "a54b7ade-2a60-4865-8554-d53fe861ff8b",
   "metadata": {},
   "outputs": [
    {
     "data": {
      "text/plain": [
       "{'output_message': AIMessage(content='**Definition of Cosine:**\\n\\nThe cosine of an angle in a right-angled triangle is the ratio of the length of the adjacent side to the length of the hypotenuse.\\n\\n**Mathematically:**\\n\\ncos(θ) = adjacent side / hypotenuse\\n\\nwhere θ (theta) is the angle, and the adjacent side is the side next to the angle θ.\\n\\n**In other words:**\\n\\nImagine a right triangle with an angle θ. The cosine of θ is the ratio of the length of the side adjacent to θ to the length of the hypotenuse (the side opposite the right angle).\\n\\nI hope that helps!', additional_kwargs={}, response_metadata={'token_usage': {'completion_tokens': 130, 'prompt_tokens': 514, 'total_tokens': 644, 'completion_time': 0.267635591, 'prompt_time': 0.046061521, 'queue_time': 0.143461968, 'total_time': 0.313697112}, 'model_name': 'llama3-70b-8192', 'system_fingerprint': 'fp_bf16903a67', 'finish_reason': 'stop', 'logprobs': None}, id='run--7cf91657-6bb7-4eef-8acd-d41f8a1bbe83-0', usage_metadata={'input_tokens': 514, 'output_tokens': 130, 'total_tokens': 644})}"
      ]
     },
     "execution_count": 73,
     "metadata": {},
     "output_type": "execute_result"
    }
   ],
   "source": [
    "# create chain\n",
    "chain = RunnableParallel({\"output_message\": ChatGroq( model=\"llama3-70b-8192\")})\n",
    "\n",
    "\n",
    "def get_session_history(session_id: str) -> BaseChatMessageHistory:\n",
    "    # If a conversation history corresponding to the session ID does not exist in the store, a new ChatMessageHistory is created..\n",
    "    if session_id not in store:\n",
    "        store[session_id] = ChatMessageHistory()\n",
    "    # Returns the conversation history corresponding to the session ID.\n",
    "    return store[session_id]\n",
    "\n",
    "\n",
    "# Create a RunnableWithMessageHistory object that adds conversation history functionality to the chain.\n",
    "with_message_history = RunnableWithMessageHistory(\n",
    "    chain,\n",
    "    get_session_history,\n",
    "    # Set the key of the input message to \"input\" (if omitted, input as a Message object)\n",
    "    # input_messages_key=\"input\",\n",
    "    # Set the key of the output message to \"output_message\". (If omitted, output as a Message object)\n",
    "    output_messages_key=\"output_message\",\n",
    ")\n",
    "\n",
    "# Runs a chain with the given message and settings.\n",
    "with_message_history.invoke(\n",
    "    # 혹은 \"what is the definition of cosine?\" 도 가능\n",
    "    [HumanMessage(content=\"what is the definition of cosine?\")],\n",
    "    config={\"configurable\": {\"session_id\": \"abc123\"}},\n",
    ")"
   ]
  },
  {
   "cell_type": "code",
   "execution_count": 74,
   "id": "bf257bfd-1061-4c92-bd04-1bb9f52d6d26",
   "metadata": {},
   "outputs": [
    {
     "data": {
      "text/plain": [
       "{'output_message': AIMessage(content='** :**\\n\\n, .\\n\\n**:**\\n\\ncos() = /\\n\\n, .\\n\\n, .', additional_kwargs={}, response_metadata={'token_usage': {'completion_tokens': 17, 'prompt_tokens': 662, 'total_tokens': 679, 'completion_time': 0.080985682, 'prompt_time': 0.05667433, 'queue_time': 0.14325215, 'total_time': 0.137660012}, 'model_name': 'llama3-70b-8192', 'system_fingerprint': 'fp_bf16903a67', 'finish_reason': 'stop', 'logprobs': None}, id='run--91a534ef-9e90-41f5-b312-433a99f61f42-0', usage_metadata={'input_tokens': 662, 'output_tokens': 17, 'total_tokens': 679})}"
      ]
     },
     "execution_count": 74,
     "metadata": {},
     "output_type": "execute_result"
    }
   ],
   "source": [
    "with_message_history.invoke(\n",
    "    # I would like to request a reply in Korean regarding the previous reply.\n",
    "    [HumanMessage(content=\"Please reply to the previous question in Korean!\")],\n",
    "    # Pass configuration options in dictionary form.\n",
    "    config={\"configurable\": {\"session_id\": \"abc123\"}},\n",
    ")"
   ]
  },
  {
   "cell_type": "code",
   "execution_count": 75,
   "id": "23c77bd0-5ff5-49fe-86c0-dc9b3d2c38bd",
   "metadata": {},
   "outputs": [],
   "source": [
    "with_message_history = RunnableWithMessageHistory(\n",
    "    ChatGroq( model=\"llama3-70b-8192\"),  # Chat uses the OpenAI language model.\n",
    "    get_session_history,  # Specifies a function to retrieve the conversation session history.\n",
    "    # Set the key of the input message to \"input\" (if omitted, input as a Message object)\n",
    "    # input_messages_key=\"input\",\n",
    "    # Set the key of the output message to \"output_message\". (If omitted, output as a Message object)\n",
    "    # output_messages_key=\"output_message\",\n",
    ")"
   ]
  },
  {
   "cell_type": "code",
   "execution_count": 76,
   "id": "3018c43a-b156-4598-b635-60e584895d31",
   "metadata": {},
   "outputs": [
    {
     "data": {
      "text/plain": [
       "AIMessage(content='The cosine of an angle is a mathematical concept that describes the ratio of the adjacent side to the hypotenuse of a right-angled triangle. In simpler terms, it\\'s a way to measure how much of the triangle\\'s angle is \"adjacent\" (next to) the reference angle, versus how much is opposite it.\\n\\nThink of it like this:\\n\\n* The adjacent side is the side next to the angle you\\'re looking at.\\n* The hypotenuse is the side opposite the right angle (90-degree angle) in a right triangle.\\n\\nThe cosine of an angle is the length of the adjacent side divided by the length of the hypotenuse. This value ranges from -1 to 1, and it tells you how \"adjacent\" the angle is.\\n\\nFor example, if you have a right triangle with an angle of 30 degrees, and the adjacent side is 3 inches long, and the hypotenuse is 5 inches long, then the cosine of that angle would be:\\n\\ncos(30°) = 3/5 = 0.6\\n\\nThis means that the adjacent side is about 60% of the length of the hypotenuse.\\n\\nCosine is an important concept in mathematics, physics, engineering, and other fields, as it helps us solve problems involving right triangles and periodic phenomena.', additional_kwargs={}, response_metadata={'token_usage': {'completion_tokens': 269, 'prompt_tokens': 350, 'total_tokens': 619, 'completion_time': 0.706594616, 'prompt_time': 0.034333491, 'queue_time': 0.147066499, 'total_time': 0.740928107}, 'model_name': 'llama3-70b-8192', 'system_fingerprint': 'fp_bf16903a67', 'finish_reason': 'stop', 'logprobs': None}, id='run--4209a684-1d1f-420b-b7df-0f473ab1b862-0', usage_metadata={'input_tokens': 350, 'output_tokens': 269, 'total_tokens': 619})"
      ]
     },
     "execution_count": 76,
     "metadata": {},
     "output_type": "execute_result"
    }
   ],
   "source": [
    "with_message_history.invoke(\n",
    "    # I would like to request a reply in Korean regarding the previous reply.\n",
    "    [HumanMessage(content=\"What does cosine mean?\")],\n",
    "    # Pass configuration options in dictionary form.\n",
    "    config={\"configurable\": {\"session_id\": \"def123\"}},\n",
    ")"
   ]
  },
  {
   "cell_type": "code",
   "execution_count": 77,
   "id": "31e0998e-98cb-4483-9f1f-50bbfb9b089c",
   "metadata": {},
   "outputs": [],
   "source": [
    "# Dict with single key for all message inputs and outputs"
   ]
  },
  {
   "cell_type": "code",
   "execution_count": 78,
   "id": "73662eee-f4b5-4143-a078-dcde192e4e44",
   "metadata": {},
   "outputs": [],
   "source": [
    "from operator import itemgetter"
   ]
  },
  {
   "cell_type": "code",
   "execution_count": 79,
   "id": "c0c202ba-58f3-4f41-95b7-998a784d26d7",
   "metadata": {},
   "outputs": [],
   "source": [
    "with_message_history = RunnableWithMessageHistory(\n",
    "    # \"input_messages\" Use the key to get the input message and pass it to ChatOpenAI().\n",
    "    # itemgetter(\"input_messages\") Extract input messages using\n",
    "    itemgetter(\"input_messages\") | ChatGroq( model=\"llama3-70b-8192\"),\n",
    "    get_session_history,  # A function to retrieve session records.\n",
    "    input_messages_key=\"input_messages\",  # Specifies the key of the input message.\n",
    ")"
   ]
  },
  {
   "cell_type": "code",
   "execution_count": 80,
   "id": "48439e50-bbc8-4743-8975-6472e4c9983d",
   "metadata": {},
   "outputs": [
    {
     "data": {
      "text/plain": [
       "AIMessage(content='The cosine of an angle is a mathematical concept that describes the ratio of the adjacent side to the hypotenuse of a right-angled triangle. In simpler terms, it\\'s a way to measure how much of the triangle\\'s angle is \"adjacent\" (next to) the reference angle, versus how much is opposite it.\\n\\nThink of it like this:\\n\\n* The adjacent side is the side next to the angle you\\'re looking at.\\n* The hypotenuse is the side opposite the right angle (90-degree angle) in a right triangle.\\n\\nThe cosine of an angle is the length of the adjacent side divided by the length of the hypotenuse. This value ranges from -1 to 1, and it tells you how \"adjacent\" the angle is.\\n\\nFor example, if you have a right triangle with an angle of 30 degrees, and the adjacent side is 3 inches long, and the hypotenuse is 5 inches long, then the cosine of that angle would be:\\n\\ncos(30°) = 3/5 = 0.6\\n\\nThis means that the adjacent side is about 60% of the length of the hypotenuse.\\n\\nCosine is an important concept in mathematics, physics, engineering, and other fields, as it helps us solve problems involving right triangles and periodic phenomena.', additional_kwargs={}, response_metadata={'token_usage': {'completion_tokens': 269, 'prompt_tokens': 350, 'total_tokens': 619, 'completion_time': 0.683062937, 'prompt_time': 0.034202764, 'queue_time': 0.143566684, 'total_time': 0.717265701}, 'model_name': 'llama3-70b-8192', 'system_fingerprint': 'fp_bf16903a67', 'finish_reason': 'stop', 'logprobs': None}, id='run--00e45137-25f9-4858-923f-8bbbe3cbe00a-0', usage_metadata={'input_tokens': 350, 'output_tokens': 269, 'total_tokens': 619})"
      ]
     },
     "execution_count": 80,
     "metadata": {},
     "output_type": "execute_result"
    }
   ],
   "source": [
    "with_message_history.invoke(\n",
    "    {\"input_messages\": \"What does cosine mean?\"},\n",
    "    # Pass configuration options in dictionary form.\n",
    "    config={\"configurable\": {\"session_id\": \"xyz123\"}},\n",
    ")"
   ]
  },
  {
   "cell_type": "code",
   "execution_count": null,
   "id": "c5c4f76c-2194-4ec6-aefb-d1e9e6702457",
   "metadata": {},
   "outputs": [],
   "source": []
  }
 ],
 "metadata": {
  "kernelspec": {
   "display_name": "Python 3 (ipykernel)",
   "language": "python",
   "name": "python3"
  },
  "language_info": {
   "codemirror_mode": {
    "name": "ipython",
    "version": 3
   },
   "file_extension": ".py",
   "mimetype": "text/x-python",
   "name": "python",
   "nbconvert_exporter": "python",
   "pygments_lexer": "ipython3",
   "version": "3.11.11"
  }
 },
 "nbformat": 4,
 "nbformat_minor": 5
}

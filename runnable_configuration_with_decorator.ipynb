{
 "cells": [
  {
   "cell_type": "code",
   "execution_count": null,
   "id": "e2cb8d75-b2c3-4c85-ac7a-5c90127c184c",
   "metadata": {},
   "outputs": [],
   "source": [
    "# 20250816"
   ]
  },
  {
   "cell_type": "code",
   "execution_count": null,
   "id": "67c42d24-a336-48c5-88c7-1aba286526c7",
   "metadata": {},
   "outputs": [],
   "source": [
    "# https://csp.gitbook.io/langchain-for-beginners/ch13-langchain-expression-language-lcel/07.-runnable-configuration-with-chain-decorator"
   ]
  },
  {
   "cell_type": "code",
   "execution_count": null,
   "id": "7617000e-4b15-4c0c-b617-53d0fef76bb0",
   "metadata": {},
   "outputs": [],
   "source": [
    "# 07 Runnable configuration with @chain decorator"
   ]
  },
  {
   "cell_type": "code",
   "execution_count": 12,
   "id": "592549ae-7dba-4c4e-a1cd-fb02feff6cf9",
   "metadata": {},
   "outputs": [],
   "source": [
    "import os\n",
    "from dotenv import load_dotenv\n",
    "from langchain_groq import ChatGroq\n",
    "from langchain_core.output_parsers import StrOutputParser\n",
    "from langchain_core.prompts import ChatPromptTemplate\n",
    "from langchain_core.runnables import chain"
   ]
  },
  {
   "cell_type": "code",
   "execution_count": 4,
   "id": "abcc0cff-bbbb-4a68-b441-edee65d91d17",
   "metadata": {},
   "outputs": [
    {
     "data": {
      "text/plain": [
       "True"
      ]
     },
     "execution_count": 4,
     "metadata": {},
     "output_type": "execute_result"
    }
   ],
   "source": [
    "# Load environment variables from .env file\n",
    "load_dotenv()"
   ]
  },
  {
   "cell_type": "code",
   "execution_count": 7,
   "id": "7621c257-31f5-447f-b172-0989d8a86950",
   "metadata": {},
   "outputs": [],
   "source": [
    "# Defines a prompt template.\n",
    "prompt1 = ChatPromptTemplate.from_template(\"{topic} Please explain briefly in English.\")\n",
    "prompt2 = ChatPromptTemplate.from_template(\n",
    "    \"{sentence} Please make an Instagram post using emoji.\"\n",
    ")"
   ]
  },
  {
   "cell_type": "code",
   "execution_count": 9,
   "id": "160e5007-514f-4dc3-b69f-293b1af7c597",
   "metadata": {},
   "outputs": [],
   "source": [
    "@chain\n",
    "def custom_chain(text):\n",
    "    # First prompt, ChatOpenAI, Create a chain by concatenating string output parsers.\n",
    "    chain1 = prompt1 |ChatGroq( model=\"llama3-70b-8192\") | StrOutputParser()\n",
    "    output1 = chain1.invoke({\"topic\": text})\n",
    "\n",
    "    # The second prompt, ChatOpenAI, creates a chain by concatenating the string output parser.\n",
    "    chain2 = prompt2 | ChatGroq( model=\"llama3-70b-8192\") | StrOutputParser()\n",
    "    # Call the second chain, passing it the first parsed result and returning the final result.\n",
    "    return chain2.invoke({\"sentence\": output1})"
   ]
  },
  {
   "cell_type": "code",
   "execution_count": 11,
   "id": "1f021e42-9ecc-4ea5-97ed-4e3bb7546cf8",
   "metadata": {},
   "outputs": [
    {
     "name": "stdout",
     "output_type": "stream",
     "text": [
      "🌟 Quantum Mechanics in a Nutshell! 🌟\n",
      "\n",
      "Did you know that tiny particles can be in two places at once? 🤯 Or that connected particles can affect each other from miles away? 📱️ It's all about quantum mechanics! 🎉\n",
      "\n",
      "Here are the key principles:\n",
      "\n",
      "✨ Wave-Particle Duality: Tiny particles can be waves and particles at the same time! 🌊\n",
      "\n",
      "✨ Uncertainty Principle: You can't know everything about a particle at the same time! 🤔\n",
      "\n",
      "✨ Superposition: Particles can be in multiple states at once! 🔄\n",
      "\n",
      "✨ Entanglement: Connected particles can affect each other from afar! 💻\n",
      "\n",
      "✨ Probabilistic Nature: It's all about chances and probabilities! 📊\n",
      "\n",
      "Quantum mechanics explains a lot of cool stuff, like why atoms don't collapse and why some materials are superconductors! 💡 It's also the basis for modern tech like transistors, lasers, and computer chips! 💻\n",
      "\n",
      "So, imagine a coin that can be both heads AND tails at the same time... until you look at it! 😉 That's quantum mechanics in a nutshell! 🌰\n",
      "\n",
      "#QuantumMechanics #Physics #Science #Technology #Innovation\n"
     ]
    }
   ],
   "source": [
    "# Call custom_chain\n",
    "print(custom_chain.invoke(\"Quantum mechanics\"))"
   ]
  },
  {
   "cell_type": "code",
   "execution_count": null,
   "id": "67571390-50dc-44bb-b049-9c1c4859b033",
   "metadata": {},
   "outputs": [],
   "source": []
  }
 ],
 "metadata": {
  "kernelspec": {
   "display_name": "Python 3 (ipykernel)",
   "language": "python",
   "name": "python3"
  },
  "language_info": {
   "codemirror_mode": {
    "name": "ipython",
    "version": 3
   },
   "file_extension": ".py",
   "mimetype": "text/x-python",
   "name": "python",
   "nbconvert_exporter": "python",
   "pygments_lexer": "ipython3",
   "version": "3.11.11"
  }
 },
 "nbformat": 4,
 "nbformat_minor": 5
}

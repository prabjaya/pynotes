{
 "cells": [
  {
   "cell_type": "code",
   "execution_count": null,
   "id": "8d8d8977-3382-4f95-b34b-b8c19eaaac2b",
   "metadata": {
    "jupyter": {
     "source_hidden": true
    }
   },
   "outputs": [],
   "source": [
    "#  created at : 20250118\n",
    "      "
   ]
  },
  {
   "cell_type": "code",
   "execution_count": 1,
   "id": "8d9aa6c9-b027-4b26-8069-4a7c4eae976e",
   "metadata": {},
   "outputs": [],
   "source": [
    "# https://chatgpt.com/c/678ad66f-280c-800d-b5d8-0bfbe5bfff94"
   ]
  },
  {
   "cell_type": "code",
   "execution_count": 3,
   "id": "5cc36245-319d-4d11-b612-146f8671955c",
   "metadata": {},
   "outputs": [],
   "source": [
    "class Slu:\n",
    "  def __init__(self):\n",
    "    self._internalvalue = 10"
   ]
  },
  {
   "cell_type": "code",
   "execution_count": 4,
   "id": "d284f0ab-0f90-4776-aae7-2e710221841d",
   "metadata": {},
   "outputs": [
    {
     "name": "stdout",
     "output_type": "stream",
     "text": [
      "10\n"
     ]
    }
   ],
   "source": [
    "obj = Slu()\n",
    "print(obj._internalvalue) "
   ]
  },
  {
   "cell_type": "code",
   "execution_count": null,
   "id": "96ded35c-c2c0-4058-8337-465c428b7f57",
   "metadata": {},
   "outputs": [],
   "source": []
  }
 ],
 "metadata": {
  "kernelspec": {
   "display_name": "Python 3 (ipykernel)",
   "language": "python",
   "name": "python3"
  },
  "language_info": {
   "codemirror_mode": {
    "name": "ipython",
    "version": 3
   },
   "file_extension": ".py",
   "mimetype": "text/x-python",
   "name": "python",
   "nbconvert_exporter": "python",
   "pygments_lexer": "ipython3",
   "version": "3.11.11"
  }
 },
 "nbformat": 4,
 "nbformat_minor": 5
}

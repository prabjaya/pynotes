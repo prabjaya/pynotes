{
 "cells": [
  {
   "cell_type": "code",
   "execution_count": null,
   "id": "c60623c8-ea1d-462c-ab29-9e6f334d9c10",
   "metadata": {},
   "outputs": [],
   "source": [
    "#  created at : 20250118"
   ]
  },
  {
   "cell_type": "code",
   "execution_count": null,
   "id": "d186f255-a9b0-4d8a-9e7a-93a97a2be450",
   "metadata": {},
   "outputs": [],
   "source": [
    "# https://chatgpt.com/c/678ad66f-280c-800d-b5d8-0bfbe5bfff94"
   ]
  },
  {
   "cell_type": "code",
   "execution_count": 1,
   "id": "46f03e1e-cc4d-4a27-9e10-98c5b2b74fcf",
   "metadata": {},
   "outputs": [],
   "source": [
    "class Dunderp:\n",
    "    def __init__(self,value):\n",
    "        self.value = value\n",
    "    def __str__(self):\n",
    "        return f\"Value {self.value}\""
   ]
  },
  {
   "cell_type": "code",
   "execution_count": 3,
   "id": "45417171-afd3-4e06-8c4a-6c0e6261383d",
   "metadata": {},
   "outputs": [
    {
     "name": "stdout",
     "output_type": "stream",
     "text": [
      "Value 15\n"
     ]
    }
   ],
   "source": [
    "obj = Dunderp(15)\n",
    "print(obj)"
   ]
  },
  {
   "cell_type": "code",
   "execution_count": null,
   "id": "b4d466c7-ed25-4bd4-a478-caa6f9f191c2",
   "metadata": {},
   "outputs": [],
   "source": []
  }
 ],
 "metadata": {
  "kernelspec": {
   "display_name": "Python 3 (ipykernel)",
   "language": "python",
   "name": "python3"
  },
  "language_info": {
   "codemirror_mode": {
    "name": "ipython",
    "version": 3
   },
   "file_extension": ".py",
   "mimetype": "text/x-python",
   "name": "python",
   "nbconvert_exporter": "python",
   "pygments_lexer": "ipython3",
   "version": "3.11.11"
  }
 },
 "nbformat": 4,
 "nbformat_minor": 5
}

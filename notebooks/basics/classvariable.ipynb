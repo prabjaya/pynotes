{
 "cells": [
  {
   "cell_type": "code",
   "execution_count": 9,
   "id": "71ceb7bc-1bda-4e61-8b3d-c30c4e1dc7b4",
   "metadata": {},
   "outputs": [
    {
     "name": "stdout",
     "output_type": "stream",
     "text": [
      "families\n",
      "families\n",
      "families\n",
      "relativies\n",
      "relativies\n"
     ]
    }
   ],
   "source": [
    "class Classvariablepg:\n",
    "    family = \"families\"\n",
    "    def __init__(self, name,age):\n",
    "        self.name = name\n",
    "        self.age = age\n",
    "print(Classvariablepg.family)\n",
    "\n",
    "obj1  = Classvariablepg(\"Lavan\",4)\n",
    "obj2  = Classvariablepg(\"Gagan\",5)\n",
    "print(obj1.family)\n",
    "print(obj2.family)\n",
    "\n",
    "Classvariablepg.family = \"relativies\"\n",
    "print(obj1.family)\n",
    "print(obj2.family)  "
   ]
  },
  {
   "cell_type": "code",
   "execution_count": null,
   "id": "7f67d34a-1191-4e29-a6e2-f9c4f17484bd",
   "metadata": {},
   "outputs": [],
   "source": []
  }
 ],
 "metadata": {
  "kernelspec": {
   "display_name": "Python 3 (ipykernel)",
   "language": "python",
   "name": "python3"
  },
  "language_info": {
   "codemirror_mode": {
    "name": "ipython",
    "version": 3
   },
   "file_extension": ".py",
   "mimetype": "text/x-python",
   "name": "python",
   "nbconvert_exporter": "python",
   "pygments_lexer": "ipython3",
   "version": "3.11.11"
  }
 },
 "nbformat": 4,
 "nbformat_minor": 5
}

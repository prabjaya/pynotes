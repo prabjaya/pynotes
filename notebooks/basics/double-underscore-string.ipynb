{
 "cells": [
  {
   "cell_type": "code",
   "execution_count": 5,
   "id": "84f19b87-2c94-4148-af67-64c6d1b38d2e",
   "metadata": {},
   "outputs": [],
   "source": [
    "#  created at : 20250118"
   ]
  },
  {
   "cell_type": "code",
   "execution_count": 2,
   "id": "c9207c61-0732-4262-a06d-c20e220af094",
   "metadata": {},
   "outputs": [
    {
     "name": "stdout",
     "output_type": "stream",
     "text": [
      "Person(Name = Lavan, age = 4)\n"
     ]
    }
   ],
   "source": [
    "class Dusp:\n",
    "    def __init__(self,name,age):\n",
    "        self.name  = name\n",
    "        self.age = age\n",
    "\n",
    "    def __str__(self):\n",
    "        return f\"Person(Name = {self.name}, age = {self.age})\"\n",
    "obj = Dusp('Lavan',4)\n",
    "print(obj)\n",
    "\n",
    "    "
   ]
  },
  {
   "cell_type": "code",
   "execution_count": null,
   "id": "ed9600de-0e2d-460d-b1c9-b6e2c49be4b3",
   "metadata": {},
   "outputs": [],
   "source": []
  }
 ],
 "metadata": {
  "kernelspec": {
   "display_name": "Python 3 (ipykernel)",
   "language": "python",
   "name": "python3"
  },
  "language_info": {
   "codemirror_mode": {
    "name": "ipython",
    "version": 3
   },
   "file_extension": ".py",
   "mimetype": "text/x-python",
   "name": "python",
   "nbconvert_exporter": "python",
   "pygments_lexer": "ipython3",
   "version": "3.11.11"
  }
 },
 "nbformat": 4,
 "nbformat_minor": 5
}

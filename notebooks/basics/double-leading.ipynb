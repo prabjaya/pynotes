{
 "cells": [
  {
   "cell_type": "code",
   "execution_count": 1,
   "id": "3196d37b-6497-42e4-aa1f-22d387b2f380",
   "metadata": {},
   "outputs": [],
   "source": [
    "#  created at : 20250118"
   ]
  },
  {
   "cell_type": "code",
   "execution_count": 2,
   "id": "3ddac0fe-01d8-4018-9ddf-066a18dea768",
   "metadata": {},
   "outputs": [],
   "source": [
    "# https://chatgpt.com/c/678ad66f-280c-800d-b5d8-0bfbe5bfff94"
   ]
  },
  {
   "cell_type": "code",
   "execution_count": 4,
   "id": "6f23b01d-421f-48f1-b902-c522fd5155d7",
   "metadata": {},
   "outputs": [],
   "source": [
    "class Dblp:\n",
    "    def __init__(self):\n",
    "        self.__privatevariable = 10\n",
    "\n",
    "    def __private_method(self):\n",
    "        print(\"Private method\")\n"
   ]
  },
  {
   "cell_type": "code",
   "execution_count": 9,
   "id": "944cee17-1725-4938-9c3a-61a1493ce7e0",
   "metadata": {},
   "outputs": [
    {
     "name": "stdout",
     "output_type": "stream",
     "text": [
      "10\n",
      "Private method\n"
     ]
    }
   ],
   "source": [
    "obj = Dblp()\n",
    "print(obj._Dblp__privatevariable)\n",
    "obj._Dblp__private_method()"
   ]
  },
  {
   "cell_type": "code",
   "execution_count": null,
   "id": "d3783f6d-bc6a-4451-8a31-299f64a60dd2",
   "metadata": {},
   "outputs": [],
   "source": []
  },
  {
   "cell_type": "code",
   "execution_count": null,
   "id": "3e0d446e-bcdf-4fef-9ea7-ab610291267a",
   "metadata": {},
   "outputs": [],
   "source": []
  }
 ],
 "metadata": {
  "kernelspec": {
   "display_name": "Python 3 (ipykernel)",
   "language": "python",
   "name": "python3"
  },
  "language_info": {
   "codemirror_mode": {
    "name": "ipython",
    "version": 3
   },
   "file_extension": ".py",
   "mimetype": "text/x-python",
   "name": "python",
   "nbconvert_exporter": "python",
   "pygments_lexer": "ipython3",
   "version": "3.11.11"
  }
 },
 "nbformat": 4,
 "nbformat_minor": 5
}

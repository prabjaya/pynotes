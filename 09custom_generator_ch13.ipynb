{
 "cells": [
  {
   "cell_type": "code",
   "execution_count": null,
   "id": "58aecd3e-92d8-45ff-9896-1564d0d90aff",
   "metadata": {},
   "outputs": [],
   "source": [
    "# 20250816"
   ]
  },
  {
   "cell_type": "code",
   "execution_count": null,
   "id": "65a0d7ca-d60b-40e7-8149-18bf711753f4",
   "metadata": {},
   "outputs": [],
   "source": [
    "# https://csp.gitbook.io/langchain-for-beginners/ch13-langchain-expression-language-lcel/09.-custom-generator"
   ]
  },
  {
   "cell_type": "code",
   "execution_count": null,
   "id": "44b35554-9de6-4ff6-adcc-216d5912190f",
   "metadata": {},
   "outputs": [],
   "source": [
    "# 09. Custom generator"
   ]
  },
  {
   "cell_type": "code",
   "execution_count": 2,
   "id": "4341f78d-2b7d-43f2-bcfe-aec75ca7c5cb",
   "metadata": {},
   "outputs": [],
   "source": [
    "from typing import Iterator, List\n",
    "from langchain.prompts.chat import ChatPromptTemplate\n",
    "from langchain_core.output_parsers import StrOutputParser\n",
    "import os\n",
    "from dotenv import load_dotenv\n",
    "from langchain_groq import ChatGroq"
   ]
  },
  {
   "cell_type": "code",
   "execution_count": 3,
   "id": "388ec369-08e1-44df-bc9d-4999e404f9df",
   "metadata": {},
   "outputs": [
    {
     "data": {
      "text/plain": [
       "True"
      ]
     },
     "execution_count": 3,
     "metadata": {},
     "output_type": "execute_result"
    }
   ],
   "source": [
    "# Load environment variables from .env file\n",
    "load_dotenv()"
   ]
  },
  {
   "cell_type": "code",
   "execution_count": 4,
   "id": "0d3037e3-0f89-4223-aedb-f9ff33ac8a4b",
   "metadata": {},
   "outputs": [],
   "source": [
    "prompt = ChatPromptTemplate.from_template(\n",
    "    # List five companies similar to the given company, separated by commas.\n",
    "    \"Write a comma-separated list of 5 companies similar to: {company}\"\n",
    ")\n",
    "# Initialize the ChatOpenAI model by setting the temperature to 0.0.\n",
    "model = ChatGroq(temperature=0.0,model=\"llama3-70b-8192\")\n",
    "# Create a chain by connecting prompts and models and applying a string output parser.\n",
    "str_chain = prompt | model | StrOutputParser()"
   ]
  },
  {
   "cell_type": "code",
   "execution_count": 5,
   "id": "efd1e75b-f898-4444-84e8-3391a0c501ef",
   "metadata": {},
   "outputs": [
    {
     "name": "stdout",
     "output_type": "stream",
     "text": [
      "Here is a list of 5 companies similar to Google:\n",
      "\n",
      "Microsoft, Amazon, Facebook, Apple, Yahoo"
     ]
    }
   ],
   "source": [
    "# Stream data.\n",
    "for chunk in str_chain.stream({\"company\": \"Google\"}):\n",
    "    # Outputs each chunk, flushing the buffer immediately without a newline.\n",
    "    print(chunk, end=\"\", flush=True)\n"
   ]
  },
  {
   "cell_type": "code",
   "execution_count": 6,
   "id": "7fcc7577-6ac7-429d-8469-13b42e072509",
   "metadata": {},
   "outputs": [
    {
     "data": {
      "text/plain": [
       "'Here is a list of 5 companies similar to Google:\\n\\nMicrosoft, Amazon, Facebook, Apple, Yahoo'"
      ]
     },
     "execution_count": 6,
     "metadata": {},
     "output_type": "execute_result"
    }
   ],
   "source": [
    "# Invoke data into the chain.\n",
    "str_chain.invoke({\"company\": \"Google\"})"
   ]
  },
  {
   "cell_type": "code",
   "execution_count": 11,
   "id": "e21209b1-b0af-4674-a49a-2a46848aab61",
   "metadata": {},
   "outputs": [],
   "source": [
    "from typing import Iterator, List\n",
    "from langchain_core.runnables import Runnable\n",
    "from langchain_core.messages import HumanMessage"
   ]
  },
  {
   "cell_type": "code",
   "execution_count": 12,
   "id": "220b3933-da0e-4f0f-b807-99fb546cff5e",
   "metadata": {},
   "outputs": [],
   "source": [
    "# Your parser: splits streamed text into comma-separated list\n",
    "def split_into_list(input: Iterator[str]) -> Iterator[List[str]]:\n",
    "    buffer = \"\"\n",
    "    for chunk in input:\n",
    "        buffer += chunk\n",
    "        while \",\" in buffer:\n",
    "            comma_index = buffer.index(\",\")\n",
    "            yield [buffer[:comma_index].strip()]\n",
    "            buffer = buffer[comma_index + 1 :]\n",
    "    # Yield remaining buffer\n",
    "    if buffer.strip():\n",
    "        yield [buffer.strip()]\n"
   ]
  },
  {
   "cell_type": "code",
   "execution_count": 13,
   "id": "9d198a83-b0c2-440f-bd8e-1fe3584ff08e",
   "metadata": {},
   "outputs": [],
   "source": [
    "# Create a custom Runnable to wrap the parser\n",
    "class ListParserRunnable(Runnable):\n",
    "    def invoke(self, input_text: str) -> List[List[str]]:\n",
    "        return list(split_into_list(iter(input_text)))\n",
    "\n",
    "    def stream(self, input_text: str) -> Iterator[List[str]]:\n",
    "        return split_into_list(iter(input_text))\n"
   ]
  },
  {
   "cell_type": "code",
   "execution_count": 17,
   "id": "40c71f2e-c685-4333-968d-e159b670e7ac",
   "metadata": {},
   "outputs": [],
   "source": [
    "# Example usage: simulate an LLM response\n",
    "# In practice, replace `llm_response` with streaming tokens from your LLM chain\n",
    "llm_response = \"Google, Microsoft, Apple, Amazon,Facebook\"\n"
   ]
  },
  {
   "cell_type": "code",
   "execution_count": 18,
   "id": "1c004cfa-6f0f-4ab2-ba68-626655b30468",
   "metadata": {},
   "outputs": [],
   "source": [
    "# Create the chain\n",
    "list_chain = ListParserRunnable()"
   ]
  },
  {
   "cell_type": "code",
   "execution_count": 19,
   "id": "f7e287dc-8622-4473-b082-ec46b7982a32",
   "metadata": {},
   "outputs": [
    {
     "name": "stdout",
     "output_type": "stream",
     "text": [
      "['Google']\n",
      "['Microsoft']\n",
      "['Apple']\n",
      "['Amazon']\n",
      "['Facebook']\n"
     ]
    }
   ],
   "source": [
    "# Stream and print each chunk\n",
    "for chunk in list_chain.stream(llm_response):\n",
    "    print(chunk, flush=True)"
   ]
  },
  {
   "cell_type": "code",
   "execution_count": 21,
   "id": "39de8dbe-4ac9-4b85-a72f-719622ffbf69",
   "metadata": {},
   "outputs": [
    {
     "data": {
      "text/plain": [
       "[['Google']]"
      ]
     },
     "execution_count": 21,
     "metadata": {},
     "output_type": "execute_result"
    }
   ],
   "source": [
    "# Pass a string (e.g., company names)\n",
    "list_chain.invoke(\"Google\")"
   ]
  },
  {
   "cell_type": "code",
   "execution_count": 22,
   "id": "8d543aaf-5064-4f0e-82f6-6405a139580a",
   "metadata": {},
   "outputs": [],
   "source": [
    "# Asynchronous"
   ]
  },
  {
   "cell_type": "code",
   "execution_count": 23,
   "id": "bdb3897b-304e-4d9f-9d10-b45e9d113bcd",
   "metadata": {},
   "outputs": [],
   "source": [
    "from typing import AsyncIterator"
   ]
  },
  {
   "cell_type": "code",
   "execution_count": 24,
   "id": "d3bdfcf0-74fc-46d2-bd99-b50bf7b1308d",
   "metadata": {},
   "outputs": [],
   "source": [
    "# Defining an asynchronous function\n",
    "async def asplit_into_list(input: AsyncIterator[str]) -> AsyncIterator[List[str]]:\n",
    "    buffer = \"\"\n",
    "    # `input` is an `async_generator` object, so use `async for`\n",
    "    async for chunk in input:\n",
    "        buffer += chunk\n",
    "        while \",\" in buffer:\n",
    "            comma_index = buffer.index(\",\")\n",
    "            yield [\n",
    "                buffer[:comma_index].strip()\n",
    "            ]  # Split by comma and return as a list\n",
    "            buffer = buffer[comma_index + 1:]\n",
    "    yield [buffer.strip()]  # Returns the remaining buffer contents as a list."
   ]
  },
  {
   "cell_type": "code",
   "execution_count": 25,
   "id": "2cb39da2-0210-4063-952a-aeea0711f551",
   "metadata": {},
   "outputs": [],
   "source": [
    "# Pipeline alist_chain and asplit_into_list\n",
    "alist_chain = str_chain | asplit_into_list"
   ]
  },
  {
   "cell_type": "code",
   "execution_count": 26,
   "id": "301a06f8-3f16-48e7-9bc6-d5a8ef594830",
   "metadata": {},
   "outputs": [
    {
     "name": "stdout",
     "output_type": "stream",
     "text": [
      "['Here is a list of 5 companies similar to Google:\\n\\nMicrosoft']\n",
      "['Amazon']\n",
      "['Facebook']\n",
      "['Apple']\n",
      "['Yahoo']\n"
     ]
    }
   ],
   "source": [
    "# Stream data using an async for loop.\n",
    "async for chunk in alist_chain.astream({\"company\": \"Google\"}):\n",
    "    # Output each chunk and empty the buffer.\n",
    "    print(chunk, flush=True)"
   ]
  },
  {
   "cell_type": "code",
   "execution_count": 27,
   "id": "bdb5d094-df44-498e-963f-e0da41649cda",
   "metadata": {},
   "outputs": [
    {
     "data": {
      "text/plain": [
       "['Here is a list of 5 companies similar to Google:\\n\\nMicrosoft',\n",
       " 'Amazon',\n",
       " 'Facebook',\n",
       " 'Apple',\n",
       " 'Yahoo']"
      ]
     },
     "execution_count": 27,
     "metadata": {},
     "output_type": "execute_result"
    }
   ],
   "source": [
    "# Calls a list chain asynchronously.\n",
    "await alist_chain.ainvoke({\"company\": \"Google\"})"
   ]
  },
  {
   "cell_type": "code",
   "execution_count": null,
   "id": "184fe80e-ea3f-4b7a-9b04-0e5e190aa08f",
   "metadata": {},
   "outputs": [],
   "source": []
  }
 ],
 "metadata": {
  "kernelspec": {
   "display_name": "Python 3 (ipykernel)",
   "language": "python",
   "name": "python3"
  },
  "language_info": {
   "codemirror_mode": {
    "name": "ipython",
    "version": 3
   },
   "file_extension": ".py",
   "mimetype": "text/x-python",
   "name": "python",
   "nbconvert_exporter": "python",
   "pygments_lexer": "ipython3",
   "version": "3.11.11"
  }
 },
 "nbformat": 4,
 "nbformat_minor": 5
}

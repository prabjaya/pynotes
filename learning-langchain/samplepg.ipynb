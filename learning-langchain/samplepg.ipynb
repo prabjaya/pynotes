{
 "cells": [
  {
   "cell_type": "code",
   "execution_count": 182,
   "id": "17485984-6e27-4ed1-a8a0-8a969ccdda31",
   "metadata": {},
   "outputs": [],
   "source": [
    "import os\n",
    "from dotenv import load_dotenv\n",
    "from langchain_groq import ChatGroq\n",
    "from langchain.prompts import PromptTemplate\n",
    "from langchain.chains import LLMChain"
   ]
  },
  {
   "cell_type": "code",
   "execution_count": 183,
   "id": "1d71886e-0c83-4c14-86fa-478b15b2c20e",
   "metadata": {},
   "outputs": [
    {
     "data": {
      "text/plain": [
       "True"
      ]
     },
     "execution_count": 183,
     "metadata": {},
     "output_type": "execute_result"
    }
   ],
   "source": [
    "# Load environment variables from .env file\n",
    "load_dotenv()"
   ]
  },
  {
   "cell_type": "code",
   "execution_count": 191,
   "id": "4f6ad4a3-e7bc-4108-a44f-4f5cc3a86a94",
   "metadata": {},
   "outputs": [],
   "source": [
    "# Get API key from environment variable\n",
    "API_KEY = os.getenv(\"GROQ_API_KEY\")"
   ]
  },
  {
   "cell_type": "code",
   "execution_count": 192,
   "id": "8321c8e7-a8fb-42a4-beb7-8688c1930f52",
   "metadata": {},
   "outputs": [],
   "source": [
    "if not API_KEY:\n",
    "    raise ValueError(\"GROQ_API_KEY not found. Set it in .env or manually in this script.\")"
   ]
  },
  {
   "cell_type": "code",
   "execution_count": 193,
   "id": "b608c412-3719-46cd-affa-4d221ebc0884",
   "metadata": {},
   "outputs": [],
   "source": [
    "# Initialize the ChatGroq LLM\n",
    "llm = ChatGroq(\n",
    "    api_key=API_KEY,\n",
    "    model=\"llama3-70b-8192\"\n",
    ")"
   ]
  },
  {
   "cell_type": "code",
   "execution_count": 194,
   "id": "baf2395d-49fa-468f-9edf-1f09b43712d4",
   "metadata": {},
   "outputs": [],
   "source": [
    "# Define a simple prompt template\n",
    "prompt_template = PromptTemplate(\n",
    "    input_variables=[\"input_text\"],\n",
    "    template=\"Respond to the following: {input_text}\"\n",
    ")"
   ]
  },
  {
   "cell_type": "code",
   "execution_count": 195,
   "id": "2e9fd7fb-f42f-4880-84f2-e72ab327087a",
   "metadata": {},
   "outputs": [],
   "source": [
    "# Create a basic LLM chain\n",
    "chain = LLMChain(llm=llm, prompt=prompt_template)"
   ]
  },
  {
   "cell_type": "code",
   "execution_count": 196,
   "id": "a8485144-c8f1-4662-ad85-83641ba90ec4",
   "metadata": {},
   "outputs": [],
   "source": [
    "# User input\n",
    "user_input = \"Explain about langchain\""
   ]
  },
  {
   "cell_type": "code",
   "execution_count": 197,
   "id": "c9fa7d30-197f-4733-ad36-741ce0915a53",
   "metadata": {},
   "outputs": [
    {
     "name": "stdout",
     "output_type": "stream",
     "text": [
      "Input: Explain about langchain\n",
      "Output: LangChain!\n",
      "\n",
      "LangChain is a fascinating concept that has been gaining traction in the natural language processing (NLP) and artificial intelligence (AI) communities. It's a novel approach to processing and generating human-like language, and I'm excited to break it down for you.\n",
      "\n",
      "**What is LangChain?**\n",
      "\n",
      "LangChain is a type of neural network architecture that combines the strengths of both language models and chain-of-thought reasoning. It's designed to generate coherent, context-dependent text by iteratively refining its understanding of the input prompt or question.\n",
      "\n",
      "Imagine a conversation where you ask a question, and the AI responds with an answer. In a traditional language model, the response would be generated based on patterns learned from large datasets. However, with LangChain, the AI takes a more thoughtful approach. It generates an initial response, and then iteratively refines it by simulating a chain of thoughts, much like a human would do when reasoning about a problem.\n",
      "\n",
      "**How does LangChain work?**\n",
      "\n",
      "The LangChain architecture consists of three main components:\n",
      "\n",
      "1. **Language Model (LM)**: This is the core language understanding component, responsible for generating an initial response to the input prompt.\n",
      "2. **Reasoning Module (RM)**: This module takes the initial response and applies a series of reasoning steps to refine the output. It's essentially a \"thinking\" component that asks itself questions like \"What does this sentence mean?\", \"What are the implications of this statement?\", or \"How does this relate to the original question?\"\n",
      "3. **Refinement Module (RF)**: This module takes the refined output from the Reasoning Module and further refines it to generate a more coherent and accurate response.\n",
      "\n",
      "The process works as follows:\n",
      "\n",
      "* The Language Model generates an initial response to the input prompt.\n",
      "* The Reasoning Module applies a series of reasoning steps to the initial response, generating a new output.\n",
      "* The Refinement Module takes the output from the Reasoning Module and refines it further.\n",
      "* The process repeats, with the Refinement Module generating a new output that serves as the input for the next iteration.\n",
      "\n",
      "**Benefits of LangChain**\n",
      "\n",
      "LangChain offers several advantages over traditional language models:\n",
      "\n",
      "* **Improved coherence**: LangChain generates more coherent and context-dependent text, as it simulates human-like reasoning and refinement.\n",
      "* **Increased accuracy**: By iteratively refining its output, LangChain can correct errors and produce more accurate responses.\n",
      "* **Enhanced explainability**: LangChain provides a more transparent understanding of its reasoning process, making it easier to interpret and trust the generated responses.\n",
      "\n",
      "**Potential applications**\n",
      "\n",
      "LangChain has far-reaching implications for various applications, including:\n",
      "\n",
      "* **Conversational AI**: LangChain can be used to develop more human-like conversational agents that can engage in meaningful discussions.\n",
      "* **Question answering**: LangChain can improve the accuracy and coherence of question answering systems.\n",
      "* **Text generation**: LangChain can be applied to generate more coherent and accurate text for various tasks, such as content creation, chatbots, and language translation.\n",
      "\n",
      "While LangChain is still a relatively new concept, it has the potential to revolutionize the way we interact with language models and AI systems. By simulating human-like reasoning and refinement, LangChain can generate more accurate, coherent, and context-dependent text, leading to more effective and trustworthy AI applications.\n"
     ]
    }
   ],
   "source": [
    "# Run the chain safely\n",
    "try:\n",
    "    output = chain.run(input_text=user_input)\n",
    "    print(\"Input:\", user_input)\n",
    "    print(\"Output:\", output)\n",
    "except Exception as e:\n",
    "    print(\"Error:\", e)"
   ]
  },
  {
   "cell_type": "code",
   "execution_count": null,
   "id": "c20f9395-6505-4f68-b8e9-67b0bfb3c6f1",
   "metadata": {},
   "outputs": [],
   "source": []
  },
  {
   "cell_type": "code",
   "execution_count": null,
   "id": "c91b12d1-557a-40a3-b611-f6ddaf809f44",
   "metadata": {},
   "outputs": [],
   "source": []
  }
 ],
 "metadata": {
  "kernelspec": {
   "display_name": "Python 3 (ipykernel)",
   "language": "python",
   "name": "python3"
  },
  "language_info": {
   "codemirror_mode": {
    "name": "ipython",
    "version": 3
   },
   "file_extension": ".py",
   "mimetype": "text/x-python",
   "name": "python",
   "nbconvert_exporter": "python",
   "pygments_lexer": "ipython3",
   "version": "3.11.11"
  }
 },
 "nbformat": 4,
 "nbformat_minor": 5
}
